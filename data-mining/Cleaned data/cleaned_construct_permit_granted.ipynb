{
 "cells": [
  {
   "cell_type": "code",
   "execution_count": 12,
   "metadata": {},
   "outputs": [],
   "source": [
    "import geopandas as gpd\n",
    "import pandas as pd"
   ]
  },
  {
   "cell_type": "code",
   "execution_count": 13,
   "metadata": {},
   "outputs": [],
   "source": [
    "con_per_granted=gpd.read_file(\"shapefiles/construction_permit_granted/construction_permit_granted.shp\")"
   ]
  },
  {
   "cell_type": "code",
   "execution_count": 14,
   "metadata": {},
   "outputs": [
    {
     "data": {
      "text/html": [
       "<div>\n",
       "<style scoped>\n",
       "    .dataframe tbody tr th:only-of-type {\n",
       "        vertical-align: middle;\n",
       "    }\n",
       "\n",
       "    .dataframe tbody tr th {\n",
       "        vertical-align: top;\n",
       "    }\n",
       "\n",
       "    .dataframe thead th {\n",
       "        text-align: right;\n",
       "    }\n",
       "</style>\n",
       "<table border=\"1\" class=\"dataframe\">\n",
       "  <thead>\n",
       "    <tr style=\"text-align: right;\">\n",
       "      <th></th>\n",
       "      <th>id</th>\n",
       "      <th>identifica</th>\n",
       "      <th>bouwjaar</th>\n",
       "      <th>status</th>\n",
       "      <th>gebruiksdo</th>\n",
       "      <th>oppervlakt</th>\n",
       "      <th>oppervla_1</th>\n",
       "      <th>aantal_ver</th>\n",
       "      <th>actualitei</th>\n",
       "      <th>geometry</th>\n",
       "    </tr>\n",
       "  </thead>\n",
       "  <tbody>\n",
       "    <tr>\n",
       "      <th>0</th>\n",
       "      <td>pand.5177630</td>\n",
       "      <td>626100000014960</td>\n",
       "      <td>2013</td>\n",
       "      <td>Bouwvergunning verleend</td>\n",
       "      <td>gezondheidszorgfunctie, woonfunctie</td>\n",
       "      <td>53</td>\n",
       "      <td>68</td>\n",
       "      <td>12</td>\n",
       "      <td>None</td>\n",
       "      <td>POLYGON Z ((90740.271 459713.152 0.000, 90732....</td>\n",
       "    </tr>\n",
       "    <tr>\n",
       "      <th>1</th>\n",
       "      <td>pand.5177810</td>\n",
       "      <td>626100000015185</td>\n",
       "      <td>2016</td>\n",
       "      <td>Bouwvergunning verleend</td>\n",
       "      <td>None</td>\n",
       "      <td>0</td>\n",
       "      <td>0</td>\n",
       "      <td>0</td>\n",
       "      <td>None</td>\n",
       "      <td>POLYGON Z ((90017.195 458749.396 0.000, 90025....</td>\n",
       "    </tr>\n",
       "    <tr>\n",
       "      <th>2</th>\n",
       "      <td>pand.5177843</td>\n",
       "      <td>626100000015226</td>\n",
       "      <td>2018</td>\n",
       "      <td>Bouwvergunning verleend</td>\n",
       "      <td>bijeenkomstfunctie, industriefunctie, winkelfu...</td>\n",
       "      <td>966</td>\n",
       "      <td>966</td>\n",
       "      <td>1</td>\n",
       "      <td>None</td>\n",
       "      <td>POLYGON Z ((89648.334 459169.004 0.000, 89683....</td>\n",
       "    </tr>\n",
       "    <tr>\n",
       "      <th>3</th>\n",
       "      <td>pand.5177848</td>\n",
       "      <td>626100000015261</td>\n",
       "      <td>2017</td>\n",
       "      <td>Bouwvergunning verleend</td>\n",
       "      <td>None</td>\n",
       "      <td>0</td>\n",
       "      <td>0</td>\n",
       "      <td>0</td>\n",
       "      <td>None</td>\n",
       "      <td>POLYGON Z ((89665.069 459386.485 0.000, 89668....</td>\n",
       "    </tr>\n",
       "    <tr>\n",
       "      <th>4</th>\n",
       "      <td>pand.5177883</td>\n",
       "      <td>626100000015304</td>\n",
       "      <td>2019</td>\n",
       "      <td>Bouwvergunning verleend</td>\n",
       "      <td>None</td>\n",
       "      <td>0</td>\n",
       "      <td>0</td>\n",
       "      <td>0</td>\n",
       "      <td>None</td>\n",
       "      <td>POLYGON Z ((89617.945 458876.852 0.000, 89616....</td>\n",
       "    </tr>\n",
       "  </tbody>\n",
       "</table>\n",
       "</div>"
      ],
      "text/plain": [
       "             id       identifica  bouwjaar                   status  \\\n",
       "0  pand.5177630  626100000014960      2013  Bouwvergunning verleend   \n",
       "1  pand.5177810  626100000015185      2016  Bouwvergunning verleend   \n",
       "2  pand.5177843  626100000015226      2018  Bouwvergunning verleend   \n",
       "3  pand.5177848  626100000015261      2017  Bouwvergunning verleend   \n",
       "4  pand.5177883  626100000015304      2019  Bouwvergunning verleend   \n",
       "\n",
       "                                          gebruiksdo  oppervlakt  oppervla_1  \\\n",
       "0                gezondheidszorgfunctie, woonfunctie          53          68   \n",
       "1                                               None           0           0   \n",
       "2  bijeenkomstfunctie, industriefunctie, winkelfu...         966         966   \n",
       "3                                               None           0           0   \n",
       "4                                               None           0           0   \n",
       "\n",
       "   aantal_ver actualitei                                           geometry  \n",
       "0          12       None  POLYGON Z ((90740.271 459713.152 0.000, 90732....  \n",
       "1           0       None  POLYGON Z ((90017.195 458749.396 0.000, 90025....  \n",
       "2           1       None  POLYGON Z ((89648.334 459169.004 0.000, 89683....  \n",
       "3           0       None  POLYGON Z ((89665.069 459386.485 0.000, 89668....  \n",
       "4           0       None  POLYGON Z ((89617.945 458876.852 0.000, 89616....  "
      ]
     },
     "execution_count": 14,
     "metadata": {},
     "output_type": "execute_result"
    }
   ],
   "source": [
    "con_per_granted.head()"
   ]
  },
  {
   "cell_type": "code",
   "execution_count": 15,
   "metadata": {},
   "outputs": [
    {
     "name": "stdout",
     "output_type": "stream",
     "text": [
      "<class 'geopandas.geodataframe.GeoDataFrame'>\n",
      "RangeIndex: 6993 entries, 0 to 6992\n",
      "Data columns (total 10 columns):\n",
      "id            6993 non-null object\n",
      "identifica    6993 non-null int64\n",
      "bouwjaar      6993 non-null int64\n",
      "status        6993 non-null object\n",
      "gebruiksdo    4047 non-null object\n",
      "oppervlakt    6993 non-null int64\n",
      "oppervla_1    6993 non-null int64\n",
      "aantal_ver    6993 non-null int64\n",
      "actualitei    0 non-null object\n",
      "geometry      6993 non-null geometry\n",
      "dtypes: geometry(1), int64(5), object(4)\n",
      "memory usage: 546.5+ KB\n"
     ]
    }
   ],
   "source": [
    "con_per_granted.info()"
   ]
  },
  {
   "cell_type": "code",
   "execution_count": 16,
   "metadata": {},
   "outputs": [
    {
     "data": {
      "text/plain": [
       "Index(['id', 'identifica', 'bouwjaar', 'status', 'gebruiksdo', 'oppervlakt',\n",
       "       'oppervla_1', 'aantal_ver', 'actualitei', 'geometry'],\n",
       "      dtype='object')"
      ]
     },
     "execution_count": 16,
     "metadata": {},
     "output_type": "execute_result"
    }
   ],
   "source": [
    "con_per_granted.columns\n",
    "\n",
    "#id, identifier, constuction year, status, usage, square mts,square mts, number of floors, "
   ]
  },
  {
   "cell_type": "code",
   "execution_count": 17,
   "metadata": {},
   "outputs": [],
   "source": [
    "#converting the column to string type\n",
    "#con_per_granted['gebruiksdo']=con_per_granted['gebruiksdo'].astype(str)\n",
    "new_data_granted=con_per_granted.dropna(subset=['gebruiksdo'])"
   ]
  },
  {
   "cell_type": "code",
   "execution_count": 18,
   "metadata": {},
   "outputs": [],
   "source": [
    "#dropping the column as null values\n",
    "new_data_granted=new_data_granted.drop(columns='actualitei',axis=1)"
   ]
  },
  {
   "cell_type": "code",
   "execution_count": 19,
   "metadata": {},
   "outputs": [
    {
     "name": "stdout",
     "output_type": "stream",
     "text": [
      "<class 'geopandas.geodataframe.GeoDataFrame'>\n",
      "Int64Index: 4047 entries, 0 to 6992\n",
      "Data columns (total 9 columns):\n",
      "id            4047 non-null object\n",
      "identifica    4047 non-null int64\n",
      "bouwjaar      4047 non-null int64\n",
      "status        4047 non-null object\n",
      "gebruiksdo    4047 non-null object\n",
      "oppervlakt    4047 non-null int64\n",
      "oppervla_1    4047 non-null int64\n",
      "aantal_ver    4047 non-null int64\n",
      "geometry      4047 non-null geometry\n",
      "dtypes: geometry(1), int64(5), object(3)\n",
      "memory usage: 316.2+ KB\n"
     ]
    }
   ],
   "source": [
    "#cleaned data in new_data_granted\n",
    "new_data_granted.info()"
   ]
  },
  {
   "cell_type": "code",
   "execution_count": 20,
   "metadata": {},
   "outputs": [],
   "source": [
    "new_data_granted.to_csv('construction_permit_granted_data.csv',index=False)"
   ]
  },
  {
   "cell_type": "code",
   "execution_count": 22,
   "metadata": {},
   "outputs": [
    {
     "data": {
      "text/plain": [
       "(1346172, 1502713)"
      ]
     },
     "execution_count": 22,
     "metadata": {},
     "output_type": "execute_result"
    }
   ],
   "source": [
    "#finding total sqmts of two columns\n",
    "new_data_granted['oppervlakt'].sum(), new_data_granted['oppervla_1'].sum()"
   ]
  },
  {
   "cell_type": "code",
   "execution_count": 23,
   "metadata": {},
   "outputs": [],
   "source": [
    "#converting pandas file to geopandas dataframe\n",
    "gdf=gpd.GeoDataFrame(\n",
    "    new_data_granted, geometry=new_data_granted.geometry)"
   ]
  },
  {
   "cell_type": "code",
   "execution_count": 24,
   "metadata": {},
   "outputs": [],
   "source": [
    "#converting geopandas dataframe to geoxml file\n",
    "gdf.to_file('c_construction_sites_permit_granted.gml')"
   ]
  }
 ],
 "metadata": {
  "kernelspec": {
   "display_name": "Python 3",
   "language": "python",
   "name": "python3"
  },
  "language_info": {
   "codemirror_mode": {
    "name": "ipython",
    "version": 3
   },
   "file_extension": ".py",
   "mimetype": "text/x-python",
   "name": "python",
   "nbconvert_exporter": "python",
   "pygments_lexer": "ipython3",
   "version": "3.7.3"
  }
 },
 "nbformat": 4,
 "nbformat_minor": 2
}

{
 "cells": [
  {
   "cell_type": "code",
   "execution_count": 1,
   "metadata": {},
   "outputs": [],
   "source": [
    "import geopandas as gpd\n",
    "import pandas as pd"
   ]
  },
  {
   "cell_type": "code",
   "execution_count": 2,
   "metadata": {},
   "outputs": [],
   "source": [
    "demol_per_granted=gpd.read_file('shapefiles/demolition_permit_granted/demolition_permit_granted.shp')"
   ]
  },
  {
   "cell_type": "code",
   "execution_count": 3,
   "metadata": {},
   "outputs": [
    {
     "name": "stdout",
     "output_type": "stream",
     "text": [
      "<class 'geopandas.geodataframe.GeoDataFrame'>\n",
      "RangeIndex: 789 entries, 0 to 788\n",
      "Data columns (total 10 columns):\n",
      "id            789 non-null object\n",
      "identifica    789 non-null int64\n",
      "bouwjaar      789 non-null int64\n",
      "status        789 non-null object\n",
      "gebruiksdo    374 non-null object\n",
      "oppervlakt    789 non-null int64\n",
      "oppervla_1    789 non-null int64\n",
      "aantal_ver    789 non-null int64\n",
      "actualitei    0 non-null object\n",
      "geometry      789 non-null geometry\n",
      "dtypes: geometry(1), int64(5), object(4)\n",
      "memory usage: 61.8+ KB\n"
     ]
    }
   ],
   "source": [
    "demol_per_granted.info()\n",
    "\n",
    "#we need to clean 2 columns "
   ]
  },
  {
   "cell_type": "code",
   "execution_count": 4,
   "metadata": {},
   "outputs": [
    {
     "data": {
      "text/plain": [
       "array(['Sloopvergunning verleend'], dtype=object)"
      ]
     },
     "execution_count": 4,
     "metadata": {},
     "output_type": "execute_result"
    }
   ],
   "source": [
    "demol_per_granted['status'].unique()"
   ]
  },
  {
   "cell_type": "code",
   "execution_count": 5,
   "metadata": {},
   "outputs": [
    {
     "data": {
      "text/plain": [
       "array([1973, 2004, 1965, 1964, 1961, 1993, 1980, 1932, 1908, 1913, 1972,\n",
       "       1953, 1800, 1900, 1955, 1931, 1880, 1971, 2008, 1967, 1958, 1968,\n",
       "       1990, 1925, 1979, 1994, 1970, 1890, 1960, 1983, 1996, 1998, 1949,\n",
       "       1954, 1920, 1999, 1959, 1991, 1939, 1863, 1630, 1947, 1975, 1895,\n",
       "       1798, 1935, 1987, 1956, 1962, 1937, 1915, 1938, 2005, 1992, 2006,\n",
       "       1984, 1934, 1963, 1981, 1928, 1977, 1988, 2001, 1982, 2012, 1974,\n",
       "       1930, 1905, 1906, 1881, 1923, 1926, 1933, 1989, 1978, 2007, 2009,\n",
       "       1950, 2018, 1927, 1943, 1957, 1850, 1883, 1901, 1902, 1976, 1985,\n",
       "       2010, 2015, 1882, 1966, 1951, 1910, 1986, 1911, 1952, 1995, 1912,\n",
       "       1936, 2013, 1929, 1948, 1917, 1914, 1969, 2000, 1940, 1840, 2003,\n",
       "       2002, 1775, 1894], dtype=int64)"
      ]
     },
     "execution_count": 5,
     "metadata": {},
     "output_type": "execute_result"
    }
   ],
   "source": [
    "demol_per_granted['bouwjaar'].unique()"
   ]
  },
  {
   "cell_type": "code",
   "execution_count": null,
   "metadata": {},
   "outputs": [],
   "source": [
    "#converting the column gebruiksdo having null values to string type\n",
    "#demol_per_granted['gebruiksdo']=demol_per_granted['gebruiksdo'].astype(str)"
   ]
  },
  {
   "cell_type": "code",
   "execution_count": 6,
   "metadata": {},
   "outputs": [
    {
     "data": {
      "text/plain": [
       "Index(['id', 'identifica', 'bouwjaar', 'status', 'gebruiksdo', 'oppervlakt',\n",
       "       'oppervla_1', 'aantal_ver', 'actualitei', 'geometry'],\n",
       "      dtype='object')"
      ]
     },
     "execution_count": 6,
     "metadata": {},
     "output_type": "execute_result"
    }
   ],
   "source": [
    "demol_per_granted.columns\n",
    "\n",
    "#id, identifier, constuction year, status, usage, square mts,square mts, number of floors,current events, geometry"
   ]
  },
  {
   "cell_type": "code",
   "execution_count": 7,
   "metadata": {},
   "outputs": [],
   "source": [
    "#removing rows with null values\n",
    "clean_data_granted=demol_per_granted.dropna(subset=['gebruiksdo'])"
   ]
  },
  {
   "cell_type": "code",
   "execution_count": 8,
   "metadata": {},
   "outputs": [],
   "source": [
    "#dropping the column actualitei having all null values in it\n",
    "clean_data_granted=clean_data_granted.drop(columns=['actualitei'],axis=1)"
   ]
  },
  {
   "cell_type": "code",
   "execution_count": 9,
   "metadata": {},
   "outputs": [
    {
     "name": "stdout",
     "output_type": "stream",
     "text": [
      "<class 'geopandas.geodataframe.GeoDataFrame'>\n",
      "Int64Index: 374 entries, 0 to 788\n",
      "Data columns (total 9 columns):\n",
      "id            374 non-null object\n",
      "identifica    374 non-null int64\n",
      "bouwjaar      374 non-null int64\n",
      "status        374 non-null object\n",
      "gebruiksdo    374 non-null object\n",
      "oppervlakt    374 non-null int64\n",
      "oppervla_1    374 non-null int64\n",
      "aantal_ver    374 non-null int64\n",
      "geometry      374 non-null geometry\n",
      "dtypes: geometry(1), int64(5), object(3)\n",
      "memory usage: 29.2+ KB\n"
     ]
    }
   ],
   "source": [
    "clean_data_granted.info()"
   ]
  },
  {
   "cell_type": "code",
   "execution_count": 15,
   "metadata": {},
   "outputs": [],
   "source": [
    "clean_data_granted.to_csv('demolition_permit_granted_data.csv',index=False)"
   ]
  },
  {
   "cell_type": "code",
   "execution_count": 11,
   "metadata": {},
   "outputs": [
    {
     "data": {
      "text/html": [
       "<div>\n",
       "<style scoped>\n",
       "    .dataframe tbody tr th:only-of-type {\n",
       "        vertical-align: middle;\n",
       "    }\n",
       "\n",
       "    .dataframe tbody tr th {\n",
       "        vertical-align: top;\n",
       "    }\n",
       "\n",
       "    .dataframe thead th {\n",
       "        text-align: right;\n",
       "    }\n",
       "</style>\n",
       "<table border=\"1\" class=\"dataframe\">\n",
       "  <thead>\n",
       "    <tr style=\"text-align: right;\">\n",
       "      <th></th>\n",
       "      <th>id</th>\n",
       "      <th>identifica</th>\n",
       "      <th>bouwjaar</th>\n",
       "      <th>status</th>\n",
       "      <th>gebruiksdo</th>\n",
       "      <th>oppervlakt</th>\n",
       "      <th>oppervla_1</th>\n",
       "      <th>aantal_ver</th>\n",
       "      <th>geometry</th>\n",
       "    </tr>\n",
       "  </thead>\n",
       "  <tbody>\n",
       "    <tr>\n",
       "      <th>0</th>\n",
       "      <td>pand.2174299</td>\n",
       "      <td>1783100000004027</td>\n",
       "      <td>1973</td>\n",
       "      <td>Sloopvergunning verleend</td>\n",
       "      <td>woonfunctie</td>\n",
       "      <td>187</td>\n",
       "      <td>187</td>\n",
       "      <td>1</td>\n",
       "      <td>POLYGON Z ((73648.140 451090.143 0.000, 73637....</td>\n",
       "    </tr>\n",
       "    <tr>\n",
       "      <th>2</th>\n",
       "      <td>pand.2174478</td>\n",
       "      <td>1783100000004225</td>\n",
       "      <td>1965</td>\n",
       "      <td>Sloopvergunning verleend</td>\n",
       "      <td>woonfunctie</td>\n",
       "      <td>95</td>\n",
       "      <td>95</td>\n",
       "      <td>1</td>\n",
       "      <td>POLYGON Z ((71397.997 448579.317 0.000, 71396....</td>\n",
       "    </tr>\n",
       "    <tr>\n",
       "      <th>4</th>\n",
       "      <td>pand.2174945</td>\n",
       "      <td>1783100000004728</td>\n",
       "      <td>1961</td>\n",
       "      <td>Sloopvergunning verleend</td>\n",
       "      <td>woonfunctie</td>\n",
       "      <td>143</td>\n",
       "      <td>143</td>\n",
       "      <td>1</td>\n",
       "      <td>POLYGON Z ((72449.563 448985.736 0.000, 72446....</td>\n",
       "    </tr>\n",
       "    <tr>\n",
       "      <th>6</th>\n",
       "      <td>pand.2175198</td>\n",
       "      <td>1783100000005015</td>\n",
       "      <td>1980</td>\n",
       "      <td>Sloopvergunning verleend</td>\n",
       "      <td>woonfunctie</td>\n",
       "      <td>105</td>\n",
       "      <td>105</td>\n",
       "      <td>1</td>\n",
       "      <td>POLYGON Z ((74467.233 442910.392 0.000, 74461....</td>\n",
       "    </tr>\n",
       "    <tr>\n",
       "      <th>7</th>\n",
       "      <td>pand.2622492</td>\n",
       "      <td>518100000231751</td>\n",
       "      <td>1932</td>\n",
       "      <td>Sloopvergunning verleend</td>\n",
       "      <td>overige gebruiksfunctie</td>\n",
       "      <td>5</td>\n",
       "      <td>5</td>\n",
       "      <td>1</td>\n",
       "      <td>POLYGON Z ((80618.371 453199.996 0.000, 80617....</td>\n",
       "    </tr>\n",
       "  </tbody>\n",
       "</table>\n",
       "</div>"
      ],
      "text/plain": [
       "             id        identifica  bouwjaar                    status  \\\n",
       "0  pand.2174299  1783100000004027      1973  Sloopvergunning verleend   \n",
       "2  pand.2174478  1783100000004225      1965  Sloopvergunning verleend   \n",
       "4  pand.2174945  1783100000004728      1961  Sloopvergunning verleend   \n",
       "6  pand.2175198  1783100000005015      1980  Sloopvergunning verleend   \n",
       "7  pand.2622492   518100000231751      1932  Sloopvergunning verleend   \n",
       "\n",
       "                gebruiksdo  oppervlakt  oppervla_1  aantal_ver  \\\n",
       "0              woonfunctie         187         187           1   \n",
       "2              woonfunctie          95          95           1   \n",
       "4              woonfunctie         143         143           1   \n",
       "6              woonfunctie         105         105           1   \n",
       "7  overige gebruiksfunctie           5           5           1   \n",
       "\n",
       "                                            geometry  \n",
       "0  POLYGON Z ((73648.140 451090.143 0.000, 73637....  \n",
       "2  POLYGON Z ((71397.997 448579.317 0.000, 71396....  \n",
       "4  POLYGON Z ((72449.563 448985.736 0.000, 72446....  \n",
       "6  POLYGON Z ((74467.233 442910.392 0.000, 74461....  \n",
       "7  POLYGON Z ((80618.371 453199.996 0.000, 80617....  "
      ]
     },
     "execution_count": 11,
     "metadata": {},
     "output_type": "execute_result"
    }
   ],
   "source": [
    "clean_data_granted.head()"
   ]
  },
  {
   "cell_type": "code",
   "execution_count": 12,
   "metadata": {},
   "outputs": [],
   "source": [
    "#converting pandas file to geopandas dataframe\n",
    "gdf=gpd.GeoDataFrame(\n",
    "    clean_data_granted, geometry=clean_data_granted.geometry)"
   ]
  },
  {
   "cell_type": "code",
   "execution_count": 13,
   "metadata": {},
   "outputs": [],
   "source": [
    "#converting geopandas dataframe to geoxml file\n",
    "gdf.to_file('c_demolition_sites.gml')"
   ]
  },
  {
   "cell_type": "code",
   "execution_count": 14,
   "metadata": {},
   "outputs": [
    {
     "data": {
      "text/plain": [
       "(167499, 283900)"
      ]
     },
     "execution_count": 14,
     "metadata": {},
     "output_type": "execute_result"
    }
   ],
   "source": [
    "#Finding sum of column oppervlakt and column oppervla_1\n",
    "clean_data_granted['oppervlakt'].sum(), clean_data_granted['oppervla_1'].sum()"
   ]
  }
 ],
 "metadata": {
  "kernelspec": {
   "display_name": "Python 3",
   "language": "python",
   "name": "python3"
  },
  "language_info": {
   "codemirror_mode": {
    "name": "ipython",
    "version": 3
   },
   "file_extension": ".py",
   "mimetype": "text/x-python",
   "name": "python",
   "nbconvert_exporter": "python",
   "pygments_lexer": "ipython3",
   "version": "3.7.3"
  }
 },
 "nbformat": 4,
 "nbformat_minor": 2
}

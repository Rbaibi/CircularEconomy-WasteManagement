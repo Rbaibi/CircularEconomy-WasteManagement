{
 "cells": [
  {
   "cell_type": "code",
   "execution_count": 1,
   "metadata": {},
   "outputs": [],
   "source": [
    "import geopandas as gpd\n",
    "import pandas as pd"
   ]
  },
  {
   "cell_type": "code",
   "execution_count": 2,
   "metadata": {},
   "outputs": [],
   "source": [
    "con_started=gpd.read_file(\"shapefiles/construction_started/construction_started.shp\")"
   ]
  },
  {
   "cell_type": "code",
   "execution_count": 3,
   "metadata": {},
   "outputs": [
    {
     "data": {
      "text/html": [
       "<div>\n",
       "<style scoped>\n",
       "    .dataframe tbody tr th:only-of-type {\n",
       "        vertical-align: middle;\n",
       "    }\n",
       "\n",
       "    .dataframe tbody tr th {\n",
       "        vertical-align: top;\n",
       "    }\n",
       "\n",
       "    .dataframe thead th {\n",
       "        text-align: right;\n",
       "    }\n",
       "</style>\n",
       "<table border=\"1\" class=\"dataframe\">\n",
       "  <thead>\n",
       "    <tr style=\"text-align: right;\">\n",
       "      <th></th>\n",
       "      <th>id</th>\n",
       "      <th>identifica</th>\n",
       "      <th>bouwjaar</th>\n",
       "      <th>status</th>\n",
       "      <th>gebruiksdo</th>\n",
       "      <th>oppervlakt</th>\n",
       "      <th>oppervla_1</th>\n",
       "      <th>aantal_ver</th>\n",
       "      <th>actualitei</th>\n",
       "      <th>geometry</th>\n",
       "    </tr>\n",
       "  </thead>\n",
       "  <tbody>\n",
       "    <tr>\n",
       "      <th>0</th>\n",
       "      <td>pand.5177835</td>\n",
       "      <td>626100000015214</td>\n",
       "      <td>2017</td>\n",
       "      <td>Bouw gestart</td>\n",
       "      <td>None</td>\n",
       "      <td>0</td>\n",
       "      <td>0</td>\n",
       "      <td>0</td>\n",
       "      <td>None</td>\n",
       "      <td>POLYGON Z ((89487.389 459058.538 0.000, 89482....</td>\n",
       "    </tr>\n",
       "    <tr>\n",
       "      <th>1</th>\n",
       "      <td>pand.9071746</td>\n",
       "      <td>1916100000365194</td>\n",
       "      <td>2015</td>\n",
       "      <td>Bouw gestart</td>\n",
       "      <td>None</td>\n",
       "      <td>0</td>\n",
       "      <td>0</td>\n",
       "      <td>0</td>\n",
       "      <td>None</td>\n",
       "      <td>POLYGON Z ((90447.066 457448.258 0.000, 90450....</td>\n",
       "    </tr>\n",
       "    <tr>\n",
       "      <th>2</th>\n",
       "      <td>pand.9071749</td>\n",
       "      <td>1916100000365223</td>\n",
       "      <td>2016</td>\n",
       "      <td>Bouw gestart</td>\n",
       "      <td>woonfunctie</td>\n",
       "      <td>164</td>\n",
       "      <td>164</td>\n",
       "      <td>1</td>\n",
       "      <td>None</td>\n",
       "      <td>POLYGON Z ((92147.445 457489.727 0.000, 92153....</td>\n",
       "    </tr>\n",
       "    <tr>\n",
       "      <th>3</th>\n",
       "      <td>pand.9071783</td>\n",
       "      <td>1916100000366522</td>\n",
       "      <td>2016</td>\n",
       "      <td>Bouw gestart</td>\n",
       "      <td>winkelfunctie</td>\n",
       "      <td>100</td>\n",
       "      <td>100</td>\n",
       "      <td>1</td>\n",
       "      <td>None</td>\n",
       "      <td>POLYGON Z ((86054.918 456238.926 0.000, 86058....</td>\n",
       "    </tr>\n",
       "    <tr>\n",
       "      <th>4</th>\n",
       "      <td>pand.9071784</td>\n",
       "      <td>1916100000366523</td>\n",
       "      <td>2016</td>\n",
       "      <td>Bouw gestart</td>\n",
       "      <td>winkelfunctie</td>\n",
       "      <td>100</td>\n",
       "      <td>100</td>\n",
       "      <td>1</td>\n",
       "      <td>None</td>\n",
       "      <td>POLYGON Z ((86065.945 456244.316 0.000, 86067....</td>\n",
       "    </tr>\n",
       "  </tbody>\n",
       "</table>\n",
       "</div>"
      ],
      "text/plain": [
       "             id        identifica  bouwjaar        status     gebruiksdo  \\\n",
       "0  pand.5177835   626100000015214      2017  Bouw gestart           None   \n",
       "1  pand.9071746  1916100000365194      2015  Bouw gestart           None   \n",
       "2  pand.9071749  1916100000365223      2016  Bouw gestart    woonfunctie   \n",
       "3  pand.9071783  1916100000366522      2016  Bouw gestart  winkelfunctie   \n",
       "4  pand.9071784  1916100000366523      2016  Bouw gestart  winkelfunctie   \n",
       "\n",
       "   oppervlakt  oppervla_1  aantal_ver actualitei  \\\n",
       "0           0           0           0       None   \n",
       "1           0           0           0       None   \n",
       "2         164         164           1       None   \n",
       "3         100         100           1       None   \n",
       "4         100         100           1       None   \n",
       "\n",
       "                                            geometry  \n",
       "0  POLYGON Z ((89487.389 459058.538 0.000, 89482....  \n",
       "1  POLYGON Z ((90447.066 457448.258 0.000, 90450....  \n",
       "2  POLYGON Z ((92147.445 457489.727 0.000, 92153....  \n",
       "3  POLYGON Z ((86054.918 456238.926 0.000, 86058....  \n",
       "4  POLYGON Z ((86065.945 456244.316 0.000, 86067....  "
      ]
     },
     "execution_count": 3,
     "metadata": {},
     "output_type": "execute_result"
    }
   ],
   "source": [
    "con_started.head()"
   ]
  },
  {
   "cell_type": "code",
   "execution_count": 4,
   "metadata": {},
   "outputs": [
    {
     "name": "stdout",
     "output_type": "stream",
     "text": [
      "<class 'geopandas.geodataframe.GeoDataFrame'>\n",
      "RangeIndex: 5163 entries, 0 to 5162\n",
      "Data columns (total 10 columns):\n",
      "id            5163 non-null object\n",
      "identifica    5163 non-null int64\n",
      "bouwjaar      5163 non-null int64\n",
      "status        5163 non-null object\n",
      "gebruiksdo    3185 non-null object\n",
      "oppervlakt    5163 non-null int64\n",
      "oppervla_1    5163 non-null int64\n",
      "aantal_ver    5163 non-null int64\n",
      "actualitei    0 non-null object\n",
      "geometry      5163 non-null geometry\n",
      "dtypes: geometry(1), int64(5), object(4)\n",
      "memory usage: 403.5+ KB\n"
     ]
    }
   ],
   "source": [
    "con_started.info()"
   ]
  },
  {
   "cell_type": "code",
   "execution_count": 5,
   "metadata": {},
   "outputs": [
    {
     "data": {
      "text/plain": [
       "status    116\n",
       "dtype: int64"
      ]
     },
     "execution_count": 5,
     "metadata": {},
     "output_type": "execute_result"
    }
   ],
   "source": [
    "#con_started['gebruiksdo']=con_started['gebruiksdo'].astype(str)\n",
    "con_not_status=con_started[con_started['bouwjaar']>2019][['status']]\n",
    "(con_not_status=='niet begonnen').count()"
   ]
  },
  {
   "cell_type": "code",
   "execution_count": 6,
   "metadata": {},
   "outputs": [],
   "source": [
    "#modifying the dataset with construction year>2019 status as not started\n",
    "con_started.loc[con_started['bouwjaar']>2019,'status']='niet begonnen'"
   ]
  },
  {
   "cell_type": "code",
   "execution_count": 7,
   "metadata": {},
   "outputs": [
    {
     "data": {
      "text/html": [
       "<div>\n",
       "<style scoped>\n",
       "    .dataframe tbody tr th:only-of-type {\n",
       "        vertical-align: middle;\n",
       "    }\n",
       "\n",
       "    .dataframe tbody tr th {\n",
       "        vertical-align: top;\n",
       "    }\n",
       "\n",
       "    .dataframe thead th {\n",
       "        text-align: right;\n",
       "    }\n",
       "</style>\n",
       "<table border=\"1\" class=\"dataframe\">\n",
       "  <thead>\n",
       "    <tr style=\"text-align: right;\">\n",
       "      <th></th>\n",
       "      <th>id</th>\n",
       "      <th>identifica</th>\n",
       "      <th>bouwjaar</th>\n",
       "      <th>status</th>\n",
       "      <th>gebruiksdo</th>\n",
       "      <th>oppervlakt</th>\n",
       "      <th>oppervla_1</th>\n",
       "      <th>aantal_ver</th>\n",
       "      <th>actualitei</th>\n",
       "      <th>geometry</th>\n",
       "    </tr>\n",
       "  </thead>\n",
       "  <tbody>\n",
       "    <tr>\n",
       "      <th>0</th>\n",
       "      <td>pand.5177835</td>\n",
       "      <td>626100000015214</td>\n",
       "      <td>2017</td>\n",
       "      <td>Bouw gestart</td>\n",
       "      <td>None</td>\n",
       "      <td>0</td>\n",
       "      <td>0</td>\n",
       "      <td>0</td>\n",
       "      <td>None</td>\n",
       "      <td>POLYGON Z ((89487.389 459058.538 0.000, 89482....</td>\n",
       "    </tr>\n",
       "    <tr>\n",
       "      <th>1</th>\n",
       "      <td>pand.9071746</td>\n",
       "      <td>1916100000365194</td>\n",
       "      <td>2015</td>\n",
       "      <td>Bouw gestart</td>\n",
       "      <td>None</td>\n",
       "      <td>0</td>\n",
       "      <td>0</td>\n",
       "      <td>0</td>\n",
       "      <td>None</td>\n",
       "      <td>POLYGON Z ((90447.066 457448.258 0.000, 90450....</td>\n",
       "    </tr>\n",
       "    <tr>\n",
       "      <th>2</th>\n",
       "      <td>pand.9071749</td>\n",
       "      <td>1916100000365223</td>\n",
       "      <td>2016</td>\n",
       "      <td>Bouw gestart</td>\n",
       "      <td>woonfunctie</td>\n",
       "      <td>164</td>\n",
       "      <td>164</td>\n",
       "      <td>1</td>\n",
       "      <td>None</td>\n",
       "      <td>POLYGON Z ((92147.445 457489.727 0.000, 92153....</td>\n",
       "    </tr>\n",
       "    <tr>\n",
       "      <th>3</th>\n",
       "      <td>pand.9071783</td>\n",
       "      <td>1916100000366522</td>\n",
       "      <td>2016</td>\n",
       "      <td>Bouw gestart</td>\n",
       "      <td>winkelfunctie</td>\n",
       "      <td>100</td>\n",
       "      <td>100</td>\n",
       "      <td>1</td>\n",
       "      <td>None</td>\n",
       "      <td>POLYGON Z ((86054.918 456238.926 0.000, 86058....</td>\n",
       "    </tr>\n",
       "    <tr>\n",
       "      <th>4</th>\n",
       "      <td>pand.9071784</td>\n",
       "      <td>1916100000366523</td>\n",
       "      <td>2016</td>\n",
       "      <td>Bouw gestart</td>\n",
       "      <td>winkelfunctie</td>\n",
       "      <td>100</td>\n",
       "      <td>100</td>\n",
       "      <td>1</td>\n",
       "      <td>None</td>\n",
       "      <td>POLYGON Z ((86065.945 456244.316 0.000, 86067....</td>\n",
       "    </tr>\n",
       "  </tbody>\n",
       "</table>\n",
       "</div>"
      ],
      "text/plain": [
       "             id        identifica  bouwjaar        status     gebruiksdo  \\\n",
       "0  pand.5177835   626100000015214      2017  Bouw gestart           None   \n",
       "1  pand.9071746  1916100000365194      2015  Bouw gestart           None   \n",
       "2  pand.9071749  1916100000365223      2016  Bouw gestart    woonfunctie   \n",
       "3  pand.9071783  1916100000366522      2016  Bouw gestart  winkelfunctie   \n",
       "4  pand.9071784  1916100000366523      2016  Bouw gestart  winkelfunctie   \n",
       "\n",
       "   oppervlakt  oppervla_1  aantal_ver actualitei  \\\n",
       "0           0           0           0       None   \n",
       "1           0           0           0       None   \n",
       "2         164         164           1       None   \n",
       "3         100         100           1       None   \n",
       "4         100         100           1       None   \n",
       "\n",
       "                                            geometry  \n",
       "0  POLYGON Z ((89487.389 459058.538 0.000, 89482....  \n",
       "1  POLYGON Z ((90447.066 457448.258 0.000, 90450....  \n",
       "2  POLYGON Z ((92147.445 457489.727 0.000, 92153....  \n",
       "3  POLYGON Z ((86054.918 456238.926 0.000, 86058....  \n",
       "4  POLYGON Z ((86065.945 456244.316 0.000, 86067....  "
      ]
     },
     "execution_count": 7,
     "metadata": {},
     "output_type": "execute_result"
    }
   ],
   "source": [
    "con_started.head()"
   ]
  },
  {
   "cell_type": "code",
   "execution_count": 8,
   "metadata": {},
   "outputs": [],
   "source": [
    "new_data=con_started.dropna(subset=['gebruiksdo'])"
   ]
  },
  {
   "cell_type": "code",
   "execution_count": 9,
   "metadata": {},
   "outputs": [],
   "source": [
    "#There is no data in the column ACTUALITEI so we drop it\n",
    "new_data=new_data.drop(columns=['actualitei'])"
   ]
  },
  {
   "cell_type": "code",
   "execution_count": 10,
   "metadata": {},
   "outputs": [
    {
     "name": "stdout",
     "output_type": "stream",
     "text": [
      "<class 'geopandas.geodataframe.GeoDataFrame'>\n",
      "Int64Index: 3185 entries, 2 to 5156\n",
      "Data columns (total 9 columns):\n",
      "id            3185 non-null object\n",
      "identifica    3185 non-null int64\n",
      "bouwjaar      3185 non-null int64\n",
      "status        3185 non-null object\n",
      "gebruiksdo    3185 non-null object\n",
      "oppervlakt    3185 non-null int64\n",
      "oppervla_1    3185 non-null int64\n",
      "aantal_ver    3185 non-null int64\n",
      "geometry      3185 non-null geometry\n",
      "dtypes: geometry(1), int64(5), object(3)\n",
      "memory usage: 248.8+ KB\n"
     ]
    }
   ],
   "source": [
    "new_data.info()"
   ]
  },
  {
   "cell_type": "code",
   "execution_count": 11,
   "metadata": {},
   "outputs": [
    {
     "data": {
      "text/html": [
       "<div>\n",
       "<style scoped>\n",
       "    .dataframe tbody tr th:only-of-type {\n",
       "        vertical-align: middle;\n",
       "    }\n",
       "\n",
       "    .dataframe tbody tr th {\n",
       "        vertical-align: top;\n",
       "    }\n",
       "\n",
       "    .dataframe thead th {\n",
       "        text-align: right;\n",
       "    }\n",
       "</style>\n",
       "<table border=\"1\" class=\"dataframe\">\n",
       "  <thead>\n",
       "    <tr style=\"text-align: right;\">\n",
       "      <th></th>\n",
       "      <th>id</th>\n",
       "      <th>identifica</th>\n",
       "      <th>bouwjaar</th>\n",
       "      <th>status</th>\n",
       "      <th>gebruiksdo</th>\n",
       "      <th>oppervlakt</th>\n",
       "      <th>oppervla_1</th>\n",
       "      <th>aantal_ver</th>\n",
       "      <th>geometry</th>\n",
       "    </tr>\n",
       "  </thead>\n",
       "  <tbody>\n",
       "    <tr>\n",
       "      <th>2</th>\n",
       "      <td>pand.9071749</td>\n",
       "      <td>1916100000365223</td>\n",
       "      <td>2016</td>\n",
       "      <td>Bouw gestart</td>\n",
       "      <td>woonfunctie</td>\n",
       "      <td>164</td>\n",
       "      <td>164</td>\n",
       "      <td>1</td>\n",
       "      <td>POLYGON Z ((92147.445 457489.727 0.000, 92153....</td>\n",
       "    </tr>\n",
       "    <tr>\n",
       "      <th>3</th>\n",
       "      <td>pand.9071783</td>\n",
       "      <td>1916100000366522</td>\n",
       "      <td>2016</td>\n",
       "      <td>Bouw gestart</td>\n",
       "      <td>winkelfunctie</td>\n",
       "      <td>100</td>\n",
       "      <td>100</td>\n",
       "      <td>1</td>\n",
       "      <td>POLYGON Z ((86054.918 456238.926 0.000, 86058....</td>\n",
       "    </tr>\n",
       "    <tr>\n",
       "      <th>4</th>\n",
       "      <td>pand.9071784</td>\n",
       "      <td>1916100000366523</td>\n",
       "      <td>2016</td>\n",
       "      <td>Bouw gestart</td>\n",
       "      <td>winkelfunctie</td>\n",
       "      <td>100</td>\n",
       "      <td>100</td>\n",
       "      <td>1</td>\n",
       "      <td>POLYGON Z ((86065.945 456244.316 0.000, 86067....</td>\n",
       "    </tr>\n",
       "    <tr>\n",
       "      <th>5</th>\n",
       "      <td>pand.9071785</td>\n",
       "      <td>1916100000366524</td>\n",
       "      <td>2016</td>\n",
       "      <td>Bouw gestart</td>\n",
       "      <td>winkelfunctie</td>\n",
       "      <td>100</td>\n",
       "      <td>100</td>\n",
       "      <td>2</td>\n",
       "      <td>POLYGON Z ((86076.035 456249.772 0.000, 86075....</td>\n",
       "    </tr>\n",
       "    <tr>\n",
       "      <th>6</th>\n",
       "      <td>pand.9071786</td>\n",
       "      <td>1916100000366525</td>\n",
       "      <td>2016</td>\n",
       "      <td>Bouw gestart</td>\n",
       "      <td>winkelfunctie</td>\n",
       "      <td>100</td>\n",
       "      <td>100</td>\n",
       "      <td>2</td>\n",
       "      <td>POLYGON Z ((86104.151 456227.702 0.000, 86090....</td>\n",
       "    </tr>\n",
       "    <tr>\n",
       "      <th>7</th>\n",
       "      <td>pand.9071788</td>\n",
       "      <td>1916100000366526</td>\n",
       "      <td>2016</td>\n",
       "      <td>Bouw gestart</td>\n",
       "      <td>winkelfunctie</td>\n",
       "      <td>100</td>\n",
       "      <td>100</td>\n",
       "      <td>1</td>\n",
       "      <td>POLYGON Z ((86110.794 456232.550 0.000, 86096....</td>\n",
       "    </tr>\n",
       "    <tr>\n",
       "      <th>8</th>\n",
       "      <td>pand.9071789</td>\n",
       "      <td>1916100000366527</td>\n",
       "      <td>2016</td>\n",
       "      <td>Bouw gestart</td>\n",
       "      <td>winkelfunctie</td>\n",
       "      <td>100</td>\n",
       "      <td>100</td>\n",
       "      <td>1</td>\n",
       "      <td>POLYGON Z ((86117.555 456237.065 0.000, 86103....</td>\n",
       "    </tr>\n",
       "    <tr>\n",
       "      <th>9</th>\n",
       "      <td>pand.9071792</td>\n",
       "      <td>1916100000366516</td>\n",
       "      <td>2016</td>\n",
       "      <td>Bouw gestart</td>\n",
       "      <td>winkelfunctie</td>\n",
       "      <td>100</td>\n",
       "      <td>100</td>\n",
       "      <td>1</td>\n",
       "      <td>POLYGON Z ((86153.416 456288.828 0.000, 86160....</td>\n",
       "    </tr>\n",
       "    <tr>\n",
       "      <th>10</th>\n",
       "      <td>pand.9071793</td>\n",
       "      <td>1916100000366517</td>\n",
       "      <td>2016</td>\n",
       "      <td>Bouw gestart</td>\n",
       "      <td>winkelfunctie</td>\n",
       "      <td>100</td>\n",
       "      <td>100</td>\n",
       "      <td>1</td>\n",
       "      <td>POLYGON Z ((86123.757 456242.545 0.000, 86110....</td>\n",
       "    </tr>\n",
       "    <tr>\n",
       "      <th>11</th>\n",
       "      <td>pand.9071794</td>\n",
       "      <td>1916100000366518</td>\n",
       "      <td>2016</td>\n",
       "      <td>Bouw gestart</td>\n",
       "      <td>winkelfunctie</td>\n",
       "      <td>100</td>\n",
       "      <td>100</td>\n",
       "      <td>1</td>\n",
       "      <td>POLYGON Z ((86130.538 456247.033 0.000, 86117....</td>\n",
       "    </tr>\n",
       "  </tbody>\n",
       "</table>\n",
       "</div>"
      ],
      "text/plain": [
       "              id        identifica  bouwjaar        status     gebruiksdo  \\\n",
       "2   pand.9071749  1916100000365223      2016  Bouw gestart    woonfunctie   \n",
       "3   pand.9071783  1916100000366522      2016  Bouw gestart  winkelfunctie   \n",
       "4   pand.9071784  1916100000366523      2016  Bouw gestart  winkelfunctie   \n",
       "5   pand.9071785  1916100000366524      2016  Bouw gestart  winkelfunctie   \n",
       "6   pand.9071786  1916100000366525      2016  Bouw gestart  winkelfunctie   \n",
       "7   pand.9071788  1916100000366526      2016  Bouw gestart  winkelfunctie   \n",
       "8   pand.9071789  1916100000366527      2016  Bouw gestart  winkelfunctie   \n",
       "9   pand.9071792  1916100000366516      2016  Bouw gestart  winkelfunctie   \n",
       "10  pand.9071793  1916100000366517      2016  Bouw gestart  winkelfunctie   \n",
       "11  pand.9071794  1916100000366518      2016  Bouw gestart  winkelfunctie   \n",
       "\n",
       "    oppervlakt  oppervla_1  aantal_ver  \\\n",
       "2          164         164           1   \n",
       "3          100         100           1   \n",
       "4          100         100           1   \n",
       "5          100         100           2   \n",
       "6          100         100           2   \n",
       "7          100         100           1   \n",
       "8          100         100           1   \n",
       "9          100         100           1   \n",
       "10         100         100           1   \n",
       "11         100         100           1   \n",
       "\n",
       "                                             geometry  \n",
       "2   POLYGON Z ((92147.445 457489.727 0.000, 92153....  \n",
       "3   POLYGON Z ((86054.918 456238.926 0.000, 86058....  \n",
       "4   POLYGON Z ((86065.945 456244.316 0.000, 86067....  \n",
       "5   POLYGON Z ((86076.035 456249.772 0.000, 86075....  \n",
       "6   POLYGON Z ((86104.151 456227.702 0.000, 86090....  \n",
       "7   POLYGON Z ((86110.794 456232.550 0.000, 86096....  \n",
       "8   POLYGON Z ((86117.555 456237.065 0.000, 86103....  \n",
       "9   POLYGON Z ((86153.416 456288.828 0.000, 86160....  \n",
       "10  POLYGON Z ((86123.757 456242.545 0.000, 86110....  \n",
       "11  POLYGON Z ((86130.538 456247.033 0.000, 86117....  "
      ]
     },
     "execution_count": 11,
     "metadata": {},
     "output_type": "execute_result"
    }
   ],
   "source": [
    "new_data.head(10)"
   ]
  },
  {
   "cell_type": "code",
   "execution_count": 12,
   "metadata": {
    "scrolled": true
   },
   "outputs": [
    {
     "data": {
      "text/plain": [
       "Index(['id', 'identifica', 'bouwjaar', 'status', 'gebruiksdo', 'oppervlakt',\n",
       "       'oppervla_1', 'aantal_ver', 'geometry'],\n",
       "      dtype='object')"
      ]
     },
     "execution_count": 12,
     "metadata": {},
     "output_type": "execute_result"
    }
   ],
   "source": [
    "new_data.columns\n",
    "#id, identifier, construction year, status, building type(office or house), surface, surface1, number of ver, geometry"
   ]
  },
  {
   "cell_type": "code",
   "execution_count": 18,
   "metadata": {},
   "outputs": [],
   "source": [
    "#saving to .csv in the excel data format\n",
    "new_data.to_csv('construction_started_data.csv',index=False)"
   ]
  },
  {
   "cell_type": "code",
   "execution_count": 14,
   "metadata": {},
   "outputs": [
    {
     "data": {
      "text/plain": [
       "array([2016, 2018, 2017, 2015, 2020, 2021, 2019, 2014, 2013, 2010, 2012,\n",
       "       2011, 1999], dtype=int64)"
      ]
     },
     "execution_count": 14,
     "metadata": {},
     "output_type": "execute_result"
    }
   ],
   "source": [
    "new_data['bouwjaar'].unique()"
   ]
  },
  {
   "cell_type": "code",
   "execution_count": 15,
   "metadata": {},
   "outputs": [
    {
     "data": {
      "text/plain": [
       "(638362, 1025034)"
      ]
     },
     "execution_count": 15,
     "metadata": {},
     "output_type": "execute_result"
    }
   ],
   "source": [
    "#finding total sqmts of two columns\n",
    "new_data['oppervlakt'].sum(), new_data['oppervla_1'].sum()"
   ]
  },
  {
   "cell_type": "code",
   "execution_count": 16,
   "metadata": {},
   "outputs": [],
   "source": [
    "#converting pandas file to geopandas dataframe\n",
    "gdf=gpd.GeoDataFrame(\n",
    "    new_data, geometry=new_data.geometry)"
   ]
  },
  {
   "cell_type": "code",
   "execution_count": 17,
   "metadata": {},
   "outputs": [],
   "source": [
    "#converting geopandas dataframe to geoxml file\n",
    "gdf.to_file('c_construction_sites.gml')"
   ]
  },
  {
   "cell_type": "code",
   "execution_count": 22,
   "metadata": {},
   "outputs": [],
   "source": [
    "import matplotlib.pyplot as plt\n",
    "\n",
    "#plotting between the construction year and status of it\n",
    "#plt.plot(new_data['bouwjaar'],new_data['status'])"
   ]
  }
 ],
 "metadata": {
  "kernelspec": {
   "display_name": "Python 3",
   "language": "python",
   "name": "python3"
  },
  "language_info": {
   "codemirror_mode": {
    "name": "ipython",
    "version": 3
   },
   "file_extension": ".py",
   "mimetype": "text/x-python",
   "name": "python",
   "nbconvert_exporter": "python",
   "pygments_lexer": "ipython3",
   "version": "3.7.3"
  }
 },
 "nbformat": 4,
 "nbformat_minor": 2
}
